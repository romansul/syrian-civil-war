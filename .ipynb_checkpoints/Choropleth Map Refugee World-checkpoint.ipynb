{
 "cells": [
  {
   "cell_type": "markdown",
   "metadata": {},
   "source": [
    "## What I was Thinking"
   ]
  },
  {
   "cell_type": "markdown",
   "metadata": {},
   "source": [
    "```2011-2018_monthly_refugee.csv``` contains data about the number of refugees taking shelter in what countries in what year. I was thinking of displaying a world map and depending on the number of refugees seen in the country in each, color each country accordingly. Somewhere down the line, we should add a scroll that allows the user to change the year and see the data change chronologically."
   ]
  },
  {
   "cell_type": "markdown",
   "metadata": {},
   "source": [
    "## What I Think Needs to be Done"
   ]
  },
  {
   "cell_type": "markdown",
   "metadata": {},
   "source": [
    "Here is a tutorial for the plotly library: https://plot.ly/python/choropleth-maps/<br>\n",
    "Here is a tutorial for creating a slider using plotly: https://plot.ly/python/gapminder-example/"
   ]
  },
  {
   "cell_type": "markdown",
   "metadata": {},
   "source": [
    "If we do a world map, it would be better to use plotly since it has a world map already set for you. However, we need the country code to connect the map and the data in the csv, so... I don't really know what to do... Maybe Geopandas will actually be easier..."
   ]
  },
  {
   "cell_type": "markdown",
   "metadata": {},
   "source": [
    "But if we do decide on plotly, we need to\n",
    "1. find the country code and assign all rows a country code corresponding to the country\n",
    "    1. https://www.kaggle.com/shep312/plotlycountrycodes\n",
    "2. do some data wrangling and change some country names\n",
    "    1. some country names have extra notes in the end, which we should delete\n",
    "3. some values are represented with <b>*</b>, which means the data is confidential; those should be set to 0"
   ]
  },
  {
   "cell_type": "markdown",
   "metadata": {},
   "source": [
    "## Some Things that Still Needs to be Done"
   ]
  },
  {
   "cell_type": "markdown",
   "metadata": {},
   "source": [
    "1. Get rid of \"trace 0\" when hovering over countries\n",
    "2. Maybe make the lines not hoverable since I can't hover over any European countries and have their country name displayed\n",
    "    1. the lines are too dense over Europe\n",
    "3. I decided against having endpoints of lines display something since it'll just display the country name again."
   ]
  },
  {
   "cell_type": "markdown",
   "metadata": {},
   "source": [
    "## Relevant Libraries"
   ]
  },
  {
   "cell_type": "code",
   "execution_count": 1,
   "metadata": {},
   "outputs": [],
   "source": [
    "# import plotly.plotly as py\n",
    "# from plotly.grid_objs import Grid, Column\n",
    "# from plotly.tools import FigureFactory as FF \n",
    "\n",
    "import pandas as pd\n",
    "import time\n",
    "import re\n",
    "import numpy as np"
   ]
  },
  {
   "cell_type": "code",
   "execution_count": 2,
   "metadata": {},
   "outputs": [],
   "source": [
    "refugee_df = pd.read_csv('2011-2018_monthly_refugee.csv')\n",
    "# refugee_df"
   ]
  },
  {
   "cell_type": "code",
   "execution_count": 3,
   "metadata": {},
   "outputs": [],
   "source": [
    "# displays list of unique country names in the data frame\n",
    "# refugee_df['Country / territory of asylum/residence'].unique()"
   ]
  },
  {
   "cell_type": "markdown",
   "metadata": {},
   "source": [
    "Replace:\n",
    "1. Czech Rep. --> Czech Republic\n",
    "2. United Kingdom of Great Britain and Northern Ireland --> ??? (currently United Kingdom)\n",
    "3. Rep. of Korea --> Korea, South\n",
    "4. The former Yugoslav Rep. of Macedonia --> Macedonia\n",
    "5. USA (INS/DHS) --> United States\n",
    "6. USA (EOIR) --> United States\n",
    "7. Serbia and Kosovo: S/RES/1244 (1999) --> Serbia"
   ]
  },
  {
   "cell_type": "code",
   "execution_count": 4,
   "metadata": {},
   "outputs": [],
   "source": [
    "code_df = pd.read_csv('plotly_countries_and_codes.csv')\n",
    "# code_df"
   ]
  },
  {
   "cell_type": "code",
   "execution_count": 5,
   "metadata": {},
   "outputs": [],
   "source": [
    "locations_df = pd.read_csv('countries.csv')\n",
    "# locations_df"
   ]
  },
  {
   "cell_type": "code",
   "execution_count": 6,
   "metadata": {},
   "outputs": [],
   "source": [
    "# displays list of unique country names in the data frame\n",
    "# code_df['COUNTRY'].unique()"
   ]
  },
  {
   "cell_type": "code",
   "execution_count": 7,
   "metadata": {},
   "outputs": [],
   "source": [
    "# replacing values in refugee_df dataframe\n",
    "new_refugee_df = refugee_df.replace({\n",
    "    'Czech Rep.': 'Czech Republic',\n",
    "    'United Kingdom of Great Britain and Northern Ireland': 'United Kingdom',\n",
    "    'Rep. of Korea': 'Korea, South',\n",
    "    'The former Yugoslav Rep. of Macedonia': 'Macedonia',\n",
    "    'USA (INS/DHS)': 'United States',\n",
    "    'USA (EOIR)': 'United States',\n",
    "    'Serbia and Kosovo: S/RES/1244 (1999)': 'Serbia'\n",
    "})\n",
    "# new_refugee_df"
   ]
  },
  {
   "cell_type": "code",
   "execution_count": 8,
   "metadata": {},
   "outputs": [],
   "source": [
    "# joining two tables together\n",
    "merged_df = new_refugee_df.set_index('Country / territory of asylum/residence').join(code_df.set_index('COUNTRY'))\n",
    "merged_df = merged_df.reset_index()\n",
    "# merged_df"
   ]
  },
  {
   "cell_type": "code",
   "execution_count": 9,
   "metadata": {},
   "outputs": [],
   "source": [
    "# rename index column to 'Country'\n",
    "merged_df.rename(columns={'index': 'Country'}, inplace=True)\n",
    "\n",
    "# remove * and convert values to int values\n",
    "merged_df['Value'] = merged_df['Value'].apply(lambda x : 0 if x == '*' else int(x))\n",
    "\n",
    "# sum values and group each country by year\n",
    "total_df = pd.DataFrame(merged_df.groupby(['Country','Year','CODE']).agg({'Value':np.sum})).reset_index()\n",
    "# type(total_df)\n",
    "# total_df"
   ]
  },
  {
   "cell_type": "markdown",
   "metadata": {},
   "source": [
    "## Plotly"
   ]
  },
  {
   "cell_type": "markdown",
   "metadata": {},
   "source": [
    "Need to make a plotly account and generate an api key"
   ]
  },
  {
   "cell_type": "code",
   "execution_count": 10,
   "metadata": {},
   "outputs": [
    {
     "data": {
      "text/html": [
       "        <script type=\"text/javascript\">\n",
       "        window.PlotlyConfig = {MathJaxConfig: 'local'};\n",
       "        if (window.MathJax) {MathJax.Hub.Config({SVG: {font: \"STIX-Web\"}});}\n",
       "        if (typeof require !== 'undefined') {\n",
       "        require.undef(\"plotly\");\n",
       "        requirejs.config({\n",
       "            paths: {\n",
       "                'plotly': ['https://cdn.plot.ly/plotly-latest.min']\n",
       "            }\n",
       "        });\n",
       "        require(['plotly'], function(Plotly) {\n",
       "            window._Plotly = Plotly;\n",
       "        });\n",
       "        }\n",
       "        </script>\n",
       "        "
      ]
     },
     "metadata": {},
     "output_type": "display_data"
    }
   ],
   "source": [
    "import plotly\n",
    "import plotly.plotly as py\n",
    "import plotly.offline as pyo\n",
    "import plotly.graph_objs as go\n",
    "plotly.__version__\n",
    "\n",
    "from plotly.offline import download_plotlyjs, init_notebook_mode, plot, iplot\n",
    "init_notebook_mode(connected=True)\n",
    "\n",
    "plotly.tools.set_credentials_file(username='hwu43', api_key='8d3oItgJtnwYVfSQR7nL')"
   ]
  },
  {
   "cell_type": "code",
   "execution_count": 11,
   "metadata": {},
   "outputs": [],
   "source": [
    "# # Add longitude and latitude values\n",
    "# total_df = total_df.set_index('Country').join(locations_df.set_index('name'))\n",
    "# total_df = total_df.reset_index()\n",
    "\n",
    "# # rename index column to 'Country'\n",
    "# total_df.rename(columns={'index': 'Country'}, inplace=True)\n",
    "\n",
    "# # drop 'country' column which is the same as 'CODE'\n",
    "# total_df = total_df.drop(columns=['country'], index=1)\n",
    "# total_df"
   ]
  },
  {
   "cell_type": "code",
   "execution_count": 12,
   "metadata": {},
   "outputs": [],
   "source": [
    "# from pandas.api.types import is_string_dtype\n",
    "# from pandas.api.types import is_numeric_dtype\n",
    "# # check type of latitude and longitude\n",
    "# is_numeric_dtype(total_df['latitude'])"
   ]
  },
  {
   "cell_type": "code",
   "execution_count": 13,
   "metadata": {},
   "outputs": [],
   "source": [
    "# find the total, just for reference/filler; not to be used in the final visualization\n",
    "new_total_df = total_df.groupby(['Country', 'CODE']).sum()\n",
    "new_total_df = new_total_df.reset_index()\n",
    "# new_total_df"
   ]
  },
  {
   "cell_type": "code",
   "execution_count": 14,
   "metadata": {},
   "outputs": [],
   "source": [
    "# merged_df = new_refugee_df.set_index('Country / territory of asylum/residence').join(code_df.set_index('COUNTRY'))\n",
    "all_code_df = code_df.set_index('CODE').join(new_total_df.set_index('CODE'))\n",
    "all_code_df = all_code_df.reset_index()\n",
    "# all_code_df"
   ]
  },
  {
   "cell_type": "code",
   "execution_count": 15,
   "metadata": {},
   "outputs": [],
   "source": [
    "# Add longitude and latitude values\n",
    "all_code_df = all_code_df.set_index('Country').join(locations_df.set_index('name'))\n",
    "all_code_df = all_code_df.reset_index()\n",
    "\n",
    "# rename index column to 'Country'\n",
    "all_code_df.rename(columns={'index': 'Country'}, inplace=True)\n",
    "\n",
    "# # drop 'country' column which is the same as 'CODE'\n",
    "# all_code_df = all_code_df.drop(columns=['COUNTRY','country'], index=1)\n",
    "# all_code_df"
   ]
  },
  {
   "cell_type": "code",
   "execution_count": 16,
   "metadata": {},
   "outputs": [],
   "source": [
    "# was experimenting with removing the \"trace 0\" when hovering over countries\n",
    "# removes rows where Country column has nan\n",
    "dropped_nan_df = all_code_df[pd.notnull(all_code_df['Country'])]\n",
    "# dropped_nan_df"
   ]
  },
  {
   "cell_type": "code",
   "execution_count": 17,
   "metadata": {},
   "outputs": [
    {
     "name": "stdout",
     "output_type": "stream",
     "text": [
      "High five! You successfully sent some data to your account on plotly. View your plot in your browser at https://plot.ly/~hwu43/0 or inside your plot.ly account where it is named 'd3-world-map'\n"
     ]
    },
    {
     "name": "stderr",
     "output_type": "stream",
     "text": [
      "C:\\Users\\huanl\\Anaconda3\\lib\\site-packages\\IPython\\core\\display.py:689: UserWarning:\n",
      "\n",
      "Consider using IPython.display.IFrame instead\n",
      "\n"
     ]
    },
    {
     "data": {
      "text/html": [
       "<iframe id=\"igraph\" scrolling=\"no\" style=\"border:none;\" seamless=\"seamless\" src=\"https://plot.ly/~hwu43/0.embed\" height=\"525px\" width=\"100%\"></iframe>"
      ],
      "text/plain": [
       "<chart_studio.tools.PlotlyDisplay object>"
      ]
     },
     "execution_count": 17,
     "metadata": {},
     "output_type": "execute_result"
    }
   ],
   "source": [
    "# plot out the countries\n",
    "data = [go.Choropleth(\n",
    "    locations = all_code_df['CODE'],\n",
    "    z = all_code_df['Value'],\n",
    "    text = all_code_df['Country'],\n",
    "    colorscale = [\n",
    "        [0, \"rgb(5, 10, 172)\"],\n",
    "        [0.3, \"rgb(40, 60, 190)\"],\n",
    "        [0.5, \"rgb(70, 100, 245)\"],\n",
    "        [0.6, \"rgb(90, 120, 245)\"],\n",
    "        [0.7, \"rgb(106, 137, 247)\"],\n",
    "        [1, \"rgb(220, 220, 220)\"]\n",
    "    ],\n",
    "    zmin = 0,\n",
    "    zmax = 600000,\n",
    "    autocolorscale = False,\n",
    "    reversescale = True,\n",
    "    marker = go.choropleth.Marker(\n",
    "        line = go.choropleth.marker.Line(\n",
    "            color = 'rgb(180,180,180)',\n",
    "            width = 0.5\n",
    "        )),\n",
    "    colorbar = go.choropleth.ColorBar(\n",
    "        tickprefix = '',\n",
    "        title = 'Number of Syrian Refugees'),\n",
    ")]\n",
    "\n",
    "# following code is for lines connecting countries\n",
    "countries = [go.Scattergeo(\n",
    "    lon = dropped_nan_df['longitude'],\n",
    "    lat = dropped_nan_df['latitude'],\n",
    "    hoverinfo = 'none',\n",
    "#     text = dropped_nan_df['COUNTRY'],\n",
    "    mode = 'none',\n",
    "#     marker = go.scattergeo.Marker(\n",
    "#         size = 0,\n",
    "#         color = 'rgb(255, 0, 0)',\n",
    "#         line = go.scattergeo.marker.Line(\n",
    "#             width = 3,\n",
    "#             color = 'rgba(68, 68, 68, 0)'\n",
    "#         ))\n",
    "    )]\n",
    "\n",
    "refugee_paths = []\n",
    "\n",
    "syria_start_lon = 33.5138\n",
    "syria_start_lat = 36.2765\n",
    "maximum_value = float(dropped_nan_df['Value'].max())\n",
    "\n",
    "for i in range(len(dropped_nan_df)):\n",
    "    # setting the opacity of the lines\n",
    "    opacity = 0\n",
    "    country_refugee = dropped_nan_df['Value'][i]\n",
    "    opacity = float(country_refugee) / maximum_value\n",
    "    # doing this because otherwise, the lines to countries besides Germany are invisible\n",
    "    if opacity < 0.25:\n",
    "        opacity = 0.25\n",
    "        \n",
    "    refugee_paths.append(\n",
    "        go.Scattergeo(\n",
    "            locationmode = 'country names',\n",
    "            lon = [syria_start_lon, dropped_nan_df['longitude'][i]],\n",
    "            lat = [syria_start_lat, dropped_nan_df['latitude'][i]],\n",
    "            mode = 'lines',\n",
    "            line = go.scattergeo.Line(\n",
    "                width = 1,\n",
    "                color = 'red',\n",
    "            ),\n",
    "            opacity = opacity,\n",
    "        )\n",
    "    )\n",
    "\n",
    "layout = go.Layout(\n",
    "    showlegend = False,\n",
    "    title = go.layout.Title(\n",
    "        text = '2011-2018 Syrian Refugee Migration Patterns'\n",
    "    ),\n",
    "    \n",
    "    geo = go.layout.Geo(\n",
    "        showframe = False,\n",
    "        showcoastlines = False,\n",
    "        projection = go.layout.geo.Projection(\n",
    "#             type = 'azimuthal equal area'\n",
    "            type = 'equirectangular',\n",
    "        ),\n",
    "        showland = True,\n",
    "        landcolor = 'rgb(243, 243, 243)',\n",
    "        countrycolor = 'rgb(204, 204, 204)', \n",
    "    ),\n",
    "    \n",
    "    annotations = [go.layout.Annotation(\n",
    "        x = 0.55,\n",
    "        y = 0.1,\n",
    "        xref = 'paper',\n",
    "        yref = 'paper',\n",
    "        text = 'Source: <a href=\"http://popstats.unhcr.org/en/asylum_seekers_monthly\">\\\n",
    "            Asylum-Seekers (Monthly Data)</a>',\n",
    "        showarrow = False\n",
    "    )]\n",
    ")\n",
    "\n",
    "fig = go.Figure(data = data + refugee_paths + countries, layout = layout)\n",
    "py.iplot(fig, validate = False, filename = 'd3-world-map')"
   ]
  }
 ],
 "metadata": {
  "kernelspec": {
   "display_name": "Python 3",
   "language": "python",
   "name": "python3"
  },
  "language_info": {
   "codemirror_mode": {
    "name": "ipython",
    "version": 3
   },
   "file_extension": ".py",
   "mimetype": "text/x-python",
   "name": "python",
   "nbconvert_exporter": "python",
   "pygments_lexer": "ipython3",
   "version": "3.7.1"
  }
 },
 "nbformat": 4,
 "nbformat_minor": 2
}
