{
 "cells": [
  {
   "cell_type": "markdown",
   "metadata": {},
   "source": [
    "## look into these tools\n",
    "plotly<br>\n",
    "imageio for creating GIFs"
   ]
  },
  {
   "cell_type": "markdown",
   "metadata": {},
   "source": [
    "## tutorials and resources\n",
    "creating choropleth maps (USA and world) with plotly<br>\n",
    "https://plot.ly/python/choropleth-maps/\n",
    "\n",
    "thread with code of creating custom maps using plotly<br>\n",
    "https://community.plot.ly/t/create-your-own-choropleth-map-with-custom-shapefiles/2567/7\n",
    "\n",
    "creating custom map of London using geopandas and matplotlib<br>\n",
    "https://towardsdatascience.com/lets-make-a-map-using-geopandas-pandas-and-matplotlib-to-make-a-chloropleth-map-dddc31c1983d"
   ]
  },
  {
   "cell_type": "markdown",
   "metadata": {},
   "source": [
    "## reference\n",
    "mapping using geopandas<br>\n",
    "https://towardsdatascience.com/mapping-with-matplotlib-pandas-geopandas-and-basemap-in-python-d11b57ab5dac"
   ]
  },
  {
   "cell_type": "code",
   "execution_count": null,
   "metadata": {},
   "outputs": [],
   "source": [
    "import pandas as pd\n",
    "import geopandas as gpd\n",
    "import matplotlib.pyplot as plt"
   ]
  },
  {
   "cell_type": "markdown",
   "metadata": {},
   "source": [
    "### code to map sparse cities(???) in Syria"
   ]
  },
  {
   "cell_type": "markdown",
   "metadata": {},
   "source": [
    "```python\n",
    "shp_file = \"syr_admin_shp_utf8_18219\\city_neighbourhoods.shp\"\n",
    "map_df = gpd.read_file(shp_file)\n",
    "\n",
    "map_df.plot(figsize=(10,10))\n",
    "```"
   ]
  },
  {
   "cell_type": "markdown",
   "metadata": {},
   "source": [
    "### code to map Syria"
   ]
  },
  {
   "cell_type": "markdown",
   "metadata": {},
   "source": [
    "```python\n",
    "shp_file = \"syr_admin_shp_utf8_18219\\syr_admin0.shp\"\n",
    "map_df = gpd.read_file(shp_file)\n",
    "\n",
    "map_df.plot()\n",
    "```"
   ]
  },
  {
   "cell_type": "markdown",
   "metadata": {},
   "source": [
    "### code to map districts in Syria"
   ]
  },
  {
   "cell_type": "markdown",
   "metadata": {},
   "source": [
    "```python\n",
    "shp_file = \"syr_admin_shp_utf8_18219\\syr_admin2.shp\"\n",
    "map_df = gpd.read_file(shp_file)\n",
    "\n",
    "map_df.plot(figsize=(10,10))\n",
    "```"
   ]
  },
  {
   "cell_type": "markdown",
   "metadata": {},
   "source": [
    "### code to map sub-districts in Syria"
   ]
  },
  {
   "cell_type": "markdown",
   "metadata": {},
   "source": [
    "```python\n",
    "shp_file = \"syr_admin_shp_utf8_18219\\syr_admin3.shp\"\n",
    "map_df = gpd.read_file(shp_file)\n",
    "\n",
    "map_df.plot(figsize=(10,10))\n",
    "```"
   ]
  },
  {
   "cell_type": "markdown",
   "metadata": {},
   "source": [
    "### code to map humanitarian efforts in Syria"
   ]
  },
  {
   "cell_type": "markdown",
   "metadata": {},
   "source": [
    "```python\n",
    "shp_file = \"syr_admin_shp_utf8_18219\\syr_humanitarian_locations.shp\"\n",
    "map_df = gpd.read_file(shp_file)\n",
    "\n",
    "map_df.plot()\n",
    "```"
   ]
  },
  {
   "cell_type": "markdown",
   "metadata": {},
   "source": [
    "### code to map governorates of Syria"
   ]
  },
  {
   "cell_type": "code",
   "execution_count": null,
   "metadata": {
    "scrolled": true
   },
   "outputs": [],
   "source": [
    "shp_file = \"syr_admin_shp_utf8_18219\\syr_admin1.shp\"\n",
    "map_df = gpd.read_file(shp_file)\n",
    "\n",
    "# creates the map\n",
    "map_df.plot()"
   ]
  },
  {
   "cell_type": "code",
   "execution_count": null,
   "metadata": {},
   "outputs": [],
   "source": [
    "# prints the map out as a dataframe\n",
    "map_df.head()"
   ]
  },
  {
   "cell_type": "code",
   "execution_count": null,
   "metadata": {
    "scrolled": false
   },
   "outputs": [],
   "source": [
    "# # finding out where 'Rural Damascus' is\n",
    "# rural = map_df.drop(index=2)\n",
    "# rural.plot()"
   ]
  },
  {
   "cell_type": "markdown",
   "metadata": {},
   "source": [
    "### governorates from the first set of data"
   ]
  },
  {
   "cell_type": "markdown",
   "metadata": {},
   "source": [
    "1. 'Damascus Suburbs'\n",
    "2. 'Idlib'\n",
    "3. 'Aleppo'\n",
    "4. 'Hama'\n",
    "5. 'Daraa'\n",
    "6. 'Hasekeh'\n",
    "7. 'Quneitra'\n",
    "8. 'Damascus'\n",
    "9. 'Homs'\n",
    "10. 'Deir Ezzor'\n",
    "11. 'Raqqa'\n",
    "12. 'Tartous'\n",
    "13. 'Lattakia'\n",
    "14. 'Sweida'"
   ]
  },
  {
   "cell_type": "code",
   "execution_count": null,
   "metadata": {},
   "outputs": [],
   "source": [
    "# # displays the data frame\n",
    "# map_df['NAME_EN'].unique()"
   ]
  },
  {
   "cell_type": "markdown",
   "metadata": {},
   "source": [
    "1. Damascus\n",
    "2. Aleppo\n",
    "3. Rural Damascus\n",
    "4. Homs\n",
    "5. Hama\n",
    "6. Lattakia\n",
    "7. Idleb\n",
    "8. Al-Hasakeh\n",
    "9. Deir-ez-Zor\n",
    "10. Tartous\n",
    "11. Ar-Qaqqa\n",
    "12. Dar'a\n",
    "13. As-Sweida\n",
    "14. Quneitra"
   ]
  },
  {
   "cell_type": "code",
   "execution_count": null,
   "metadata": {},
   "outputs": [],
   "source": [
    "dataset = pd.read_csv('all_comb_df.csv', encoding='latin-1', dtype=str)\n",
    "dataset"
   ]
  },
  {
   "cell_type": "code",
   "execution_count": null,
   "metadata": {},
   "outputs": [],
   "source": [
    "# # lists the unique provinces from the dataset\n",
    "# dataset['Province'].unique()"
   ]
  },
  {
   "cell_type": "code",
   "execution_count": null,
   "metadata": {
    "scrolled": true
   },
   "outputs": [],
   "source": [
    "# counts the number of times a province is in the dataset\n",
    "# province_count = dataset.groupby('Province', as_index=False).count()\n",
    "province_count = dataset.groupby('Province').count()"
   ]
  },
  {
   "cell_type": "code",
   "execution_count": null,
   "metadata": {},
   "outputs": [],
   "source": [
    "# changing province names by hand\n",
    "name_change = {\n",
    "    'Damascus Suburbs': 'Rural Damascus',\n",
    "    'Daraa': 'Dar\\'a',\n",
    "    'Deir Ezzor': 'Deir-ez-Zor',\n",
    "    'Hasakeh': 'Al-Hasakeh',\n",
    "    'Idlib': 'Idleb',\n",
    "    'Raqqa': 'Ar-Raqqa',\n",
    "    'Sweida': 'As-Sweida'\n",
    "}\n",
    "\n",
    "# renames the provinces using name_change\n",
    "province_count.rename(index=name_change, inplace=True)\n",
    "\n",
    "# index becomes numbers again instead of provinces\n",
    "province_count = province_count.reset_index()\n",
    "\n",
    "province_count"
   ]
  },
  {
   "cell_type": "code",
   "execution_count": null,
   "metadata": {
    "scrolled": true
   },
   "outputs": [],
   "source": [
    "merged = map_df.set_index('NAME_EN').join(province_count.set_index('Province'))\n",
    "merged['Unnamed: 0']"
   ]
  },
  {
   "cell_type": "code",
   "execution_count": null,
   "metadata": {
    "scrolled": false
   },
   "outputs": [],
   "source": [
    "# create figure and axes for Matplotlib\n",
    "fig, ax = plt.subplots(1, figsize=(10,5))\n",
    "\n",
    "# remove the axis\n",
    "ax.axis('off')\n",
    "\n",
    "# add a title\n",
    "ax.set_title('Deaths in Syria', fontdict={'fontsize': '18', 'fontweight' : '3'})\n",
    "\n",
    "# Create colorbar as a legend\n",
    "cbar = plt.cm.ScalarMappable(cmap='OrRd', norm=plt.Normalize(vmin=900, vmax=28000))\n",
    "\n",
    "# empty array for the data range\n",
    "cbar._A = []\n",
    "\n",
    "# add the colorbar to the figure\n",
    "cbar = fig.colorbar(cbar)\n",
    "\n",
    "# creates the map\n",
    "merged.plot(column='Unnamed: 0', ax=ax, cmap='OrRd', linewidth=0.8, edgecolor='1.0')"
   ]
  }
 ],
 "metadata": {
  "kernelspec": {
   "display_name": "Python 3",
   "language": "python",
   "name": "python3"
  },
  "language_info": {
   "codemirror_mode": {
    "name": "ipython",
    "version": 3
   },
   "file_extension": ".py",
   "mimetype": "text/x-python",
   "name": "python",
   "nbconvert_exporter": "python",
   "pygments_lexer": "ipython3",
   "version": "3.6.4"
  }
 },
 "nbformat": 4,
 "nbformat_minor": 2
}
