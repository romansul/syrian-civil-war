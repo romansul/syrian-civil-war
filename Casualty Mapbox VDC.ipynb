{
 "cells": [
  {
   "cell_type": "code",
   "execution_count": 4,
   "metadata": {},
   "outputs": [],
   "source": [
    "import pickle"
   ]
  },
  {
   "cell_type": "code",
   "execution_count": 5,
   "metadata": {},
   "outputs": [],
   "source": [
    "objects = pickle.load(open('./death_by_province_by_year.pickle', 'rb'))"
   ]
  },
  {
   "cell_type": "code",
   "execution_count": 7,
   "metadata": {
    "scrolled": true
   },
   "outputs": [
    {
     "data": {
      "text/plain": [
       "['Aleppo',\n",
       " 'Damascus',\n",
       " 'Damascus Suburbs',\n",
       " 'Daraa',\n",
       " 'Deir Ezzor',\n",
       " 'Hama',\n",
       " 'Homs',\n",
       " 'Idlib',\n",
       " 'Lattakia',\n",
       " 'Quneitra',\n",
       " 'Raqqa',\n",
       " 'Sweida',\n",
       " 'Tartous']"
      ]
     },
     "execution_count": 7,
     "metadata": {},
     "output_type": "execute_result"
    }
   ],
   "source": [
    "list = []\n",
    "for prov in objects['province']:\n",
    "    if prov not in list:\n",
    "        list.append(prov)\n",
    "list"
   ]
  },
  {
   "cell_type": "code",
   "execution_count": 8,
   "metadata": {},
   "outputs": [
    {
     "data": {
      "text/plain": [
       "[2011, 2012, 2013, 2014, 2015, 2016, 2017, 2018]"
      ]
     },
     "execution_count": 8,
     "metadata": {},
     "output_type": "execute_result"
    }
   ],
   "source": [
    "year_list = []\n",
    "for prov in objects['year']:\n",
    "    if prov not in year_list:\n",
    "        year_list.append(prov)\n",
    "year_list"
   ]
  },
  {
   "cell_type": "code",
   "execution_count": 9,
   "metadata": {},
   "outputs": [],
   "source": [
    "df = objects"
   ]
  },
  {
   "cell_type": "code",
   "execution_count": 10,
   "metadata": {},
   "outputs": [],
   "source": [
    "# remove the outlier, year 1970\n",
    "final = df.drop(index=88)"
   ]
  },
  {
   "cell_type": "code",
   "execution_count": 11,
   "metadata": {},
   "outputs": [
    {
     "data": {
      "text/plain": [
       "[2011, 2012, 2013, 2014, 2015, 2016, 2017, 2018]"
      ]
     },
     "execution_count": 11,
     "metadata": {},
     "output_type": "execute_result"
    }
   ],
   "source": [
    "year_list = []\n",
    "for prov in final['year']:\n",
    "    if prov not in year_list:\n",
    "        year_list.append(prov)\n",
    "year_list"
   ]
  },
  {
   "cell_type": "code",
   "execution_count": 12,
   "metadata": {},
   "outputs": [
    {
     "name": "stdout",
     "output_type": "stream",
     "text": [
      "             province  year  casualties\n",
      "0              Aleppo  2011         125\n",
      "1              Aleppo  2012        5267\n",
      "2              Aleppo  2013        6486\n",
      "3              Aleppo  2014        5851\n",
      "4              Aleppo  2015        3131\n",
      "5              Aleppo  2016        5098\n",
      "6              Aleppo  2017        1178\n",
      "7              Aleppo  2018         482\n",
      "8            Damascus  2011         134\n",
      "9            Damascus  2012        2380\n",
      "10           Damascus  2013        2423\n",
      "11           Damascus  2014        1079\n",
      "12           Damascus  2015         531\n",
      "13           Damascus  2016         139\n",
      "14           Damascus  2017         193\n",
      "15           Damascus  2018         181\n",
      "16   Damascus Suburbs  2011         356\n",
      "17   Damascus Suburbs  2012        6953\n",
      "18   Damascus Suburbs  2013        7960\n",
      "19   Damascus Suburbs  2014        4245\n",
      "20   Damascus Suburbs  2015        3486\n",
      "21   Damascus Suburbs  2016        1936\n",
      "22   Damascus Suburbs  2017        1400\n",
      "23   Damascus Suburbs  2018        2160\n",
      "24              Daraa  2011         472\n",
      "25              Daraa  2012        2441\n",
      "26              Daraa  2013        2660\n",
      "27              Daraa  2014        2334\n",
      "28              Daraa  2015        1920\n",
      "29              Daraa  2016         955\n",
      "30              Daraa  2017         939\n",
      "31              Daraa  2018         206\n",
      "32         Deir Ezzor  2011         176\n",
      "33         Deir Ezzor  2012        2402\n",
      "34         Deir Ezzor  2013        1447\n",
      "35         Deir Ezzor  2014        1259\n",
      "36         Deir Ezzor  2015        1018\n",
      "37         Deir Ezzor  2016         933\n",
      "38         Deir Ezzor  2017        1431\n",
      "39         Deir Ezzor  2018         243\n",
      "40               Hama  2011         738\n",
      "41               Hama  2012        2785\n",
      "42               Hama  2013        2137\n",
      "43               Hama  2014        1553\n",
      "44               Hama  2015         836\n",
      "45               Hama  2016         753\n",
      "46               Hama  2017         609\n",
      "47               Hama  2018         276\n",
      "48               Homs  2011        1529\n",
      "49               Homs  2012        4860\n",
      "50               Homs  2013        3603\n",
      "51               Homs  2014        2018\n",
      "52               Homs  2015        1227\n",
      "53               Homs  2016        1073\n",
      "54               Homs  2017         730\n",
      "55               Homs  2018         284\n",
      "56              Idlib  2011         574\n",
      "57              Idlib  2012        4017\n",
      "58              Idlib  2013        2856\n",
      "59              Idlib  2014        2184\n",
      "60              Idlib  2015        2081\n",
      "61              Idlib  2016        2203\n",
      "62              Idlib  2017        1081\n",
      "63              Idlib  2018         670\n",
      "64           Lattakia  2011         280\n",
      "65           Lattakia  2012        1154\n",
      "66           Lattakia  2013         782\n",
      "67           Lattakia  2014         506\n",
      "68           Lattakia  2015         238\n",
      "69           Lattakia  2016          83\n",
      "70           Lattakia  2017          17\n",
      "71           Lattakia  2018          41\n",
      "72           Quneitra  2011           7\n",
      "73           Quneitra  2012         148\n",
      "74           Quneitra  2013         347\n",
      "75           Quneitra  2014         293\n",
      "76           Quneitra  2015          66\n",
      "77           Quneitra  2016          36\n",
      "78           Quneitra  2017          48\n",
      "79           Quneitra  2018          20\n",
      "80              Raqqa  2011          24\n",
      "81              Raqqa  2012         346\n",
      "82              Raqqa  2013         558\n",
      "83              Raqqa  2014         365\n",
      "84              Raqqa  2015         126\n",
      "85              Raqqa  2016         222\n",
      "86              Raqqa  2017         792\n",
      "87              Raqqa  2018         291\n",
      "89             Sweida  2012         167\n",
      "90             Sweida  2013         210\n",
      "91             Sweida  2014         252\n",
      "92             Sweida  2015         147\n",
      "93             Sweida  2016          15\n",
      "94             Sweida  2017          23\n",
      "95             Sweida  2018         137\n",
      "96            Tartous  2011         143\n",
      "97            Tartous  2012         710\n",
      "98            Tartous  2013        1310\n",
      "99            Tartous  2014         863\n",
      "100           Tartous  2015         548\n",
      "101           Tartous  2016          59\n",
      "102           Tartous  2017          20\n",
      "103           Tartous  2018          15\n"
     ]
    }
   ],
   "source": [
    "print(final.to_string())"
   ]
  },
  {
   "cell_type": "code",
   "execution_count": 15,
   "metadata": {},
   "outputs": [
    {
     "name": "stderr",
     "output_type": "stream",
     "text": [
      "/Users/MattWirtz/anaconda3/lib/python3.7/site-packages/ipykernel_launcher.py:19: SettingWithCopyWarning:\n",
      "\n",
      "\n",
      "A value is trying to be set on a copy of a slice from a DataFrame.\n",
      "Try using .loc[row_indexer,col_indexer] = value instead\n",
      "\n",
      "See the caveats in the documentation: http://pandas.pydata.org/pandas-docs/stable/indexing.html#indexing-view-versus-copy\n",
      "\n"
     ]
    },
    {
     "data": {
      "text/plain": [
       "'Multiple-Mapbox.html'"
      ]
     },
     "execution_count": 15,
     "metadata": {},
     "output_type": "execute_result"
    }
   ],
   "source": [
    "# reference: https://plot.ly/python/scattermapbox/\n",
    "import plotly.plotly as py\n",
    "import plotly.graph_objs as go\n",
    "from plotly.offline import download_plotlyjs, init_notebook_mode, plot, iplot\n",
    "\n",
    "mapbox_access_token = 'pk.eyJ1IjoibWF0dGhld2lydHoiLCJhIjoiY2p3ZTNpNXlnMHYxcjQ5bzdwMjc0anlpeSJ9.bSLA-SSqEomk0hC52rNliQ'\n",
    "\n",
    "\n",
    "# min year in your dataset\n",
    "year = 2011\n",
    "# intensity\n",
    "colors = [\"rgb(0,116,217)\",\"rgb(255,65,54)\",\"rgb(133,20,75)\",\"rgb(255,133,27)\",\"lightgrey\"]\n",
    "\n",
    "data_slider = []\n",
    "for year in final['year'].unique():\n",
    "    df_segmented =  final[(final['year']== year)]\n",
    "\n",
    "    for col in df_segmented.columns:\n",
    "        df_segmented[col] = df_segmented[col].astype(str)\n",
    "\n",
    "    data_each_yr = go.Scattermapbox(\n",
    "        name=str(year),\n",
    "        lat=['33.5138','36.2021','33.5167',\n",
    "             '34.7324','35.1409','35.5407',\n",
    "             '35.9310','36.5079', '35.3297',\n",
    "             '34.8959', '35.9594', '32.6264', \n",
    "             '32.7129', '33.1219'],\n",
    "        lon=['36.2765','37.1343','36.9541',\n",
    "             '36.7137','36.7552','35.7953',\n",
    "             '36.6418','40.7463', '40.1350',\n",
    "             '35.8867', '38.9981', '36.1033', \n",
    "             '36.5663', '35.8209'],\n",
    "\n",
    "        mode='markers',\n",
    "        \n",
    "        marker = go.scattermapbox.Marker(\n",
    "            size = df_segmented['casualties'].astype(int),\n",
    "            color = colors[1],\n",
    "            sizemode = 'area',\n",
    "        ),\n",
    "        \n",
    "        \n",
    "        text=[\"Damascus\",\"Aleppo\",\"Rural Damascus\",\n",
    "             \"Homs\",\"Hama\",\"Lattakia\", \"Idlib\",\"Al Hasakah\", \n",
    "              \"Deir ez-Zur\", \"Tartus\", \"Ar Raqqah\", \"Daraa\", \n",
    "              \"As Suwayda\", \"Quneitra\"], visible=False\n",
    "    )\n",
    "    data_slider.append(data_each_yr)\n",
    "        \n",
    "steps = []\n",
    "for i in range(len(data_slider)):\n",
    "    step = dict(method='restyle',\n",
    "                args=['visible', [False] * len(data_slider)],\n",
    "                label='Year {}'.format(i + 2011))\n",
    "    step['args'][1][i] = True\n",
    "    steps.append(step)\n",
    "    \n",
    "sliders = [dict(active=0, pad={\"t\": 1}, steps=steps)]\n",
    "\n",
    "layout = go.Layout(\n",
    "    showlegend=False,\n",
    "    title = go.layout.Title(\n",
    "            text = '2011-2018 Syrian Casualties'\n",
    "        ),\n",
    "    autosize=True,\n",
    "    hovermode='closest',\n",
    "    sliders=sliders,\n",
    "    mapbox=go.layout.Mapbox(\n",
    "        accesstoken=mapbox_access_token,\n",
    "        bearing=0,\n",
    "        center=go.layout.mapbox.Center(\n",
    "            lat=34.9,\n",
    "            lon=37.5\n",
    "        ),\n",
    "        pitch=0,\n",
    "        zoom=6.1\n",
    "    ),\n",
    ")\n",
    "\n",
    "fig = go.Figure(data=data_slider, layout=layout)\n",
    "plot(fig, filename='Multiple-Mapbox.html')"
   ]
  },
  {
   "cell_type": "code",
   "execution_count": null,
   "metadata": {},
   "outputs": [],
   "source": []
  }
 ],
 "metadata": {
  "kernelspec": {
   "display_name": "Python 3",
   "language": "python",
   "name": "python3"
  },
  "language_info": {
   "codemirror_mode": {
    "name": "ipython",
    "version": 3
   },
   "file_extension": ".py",
   "mimetype": "text/x-python",
   "name": "python",
   "nbconvert_exporter": "python",
   "pygments_lexer": "ipython3",
   "version": "3.7.3"
  }
 },
 "nbformat": 4,
 "nbformat_minor": 2
}
